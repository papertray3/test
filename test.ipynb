{
    "metadata": {
        "kernelspec": {
            "language": "python", 
            "display_name": "Python 2 with Spark 2.1", 
            "name": "python2-spark21"
        }, 
        "language_info": {
            "name": "python", 
            "codemirror_mode": {
                "version": 2, 
                "name": "ipython"
            }, 
            "version": "2.7.11", 
            "mimetype": "text/x-python", 
            "pygments_lexer": "ipython2", 
            "nbconvert_exporter": "python", 
            "file_extension": ".py"
        }
    }, 
    "nbformat": 4, 
    "cells": [
        {
            "execution_count": null, 
            "metadata": {}, 
            "cell_type": "code", 
            "outputs": [], 
            "source": "!pip2 install watson-developer-cloud"
        }, 
        {
            "execution_count": null, 
            "metadata": {}, 
            "cell_type": "code", 
            "outputs": [], 
            "source": "from watson_developer_cloud import DiscoveryV1\nimport json\ndiscovery = DiscoveryV1(\n    version='2017-10-16',\n    username='',\n    password='')\n\nenvironments = discovery.list_environments()\nprint(json.dumps(environments, indent=2))\n\n\nnews_environments = [x for x in environments['environments'] if\n                     x['name'] == 'Watson System Environment']\nnews_environment_id = news_environments[0]['environment_id']\nprint(json.dumps(news_environment_id, indent=2))\n\ncollections = discovery.list_collections(news_environment_id)\nnews_collections = [x for x in collections['collections']]\nprint(json.dumps(collections, indent=2))\n\nconfigurations = discovery.list_configurations(\n    environment_id=news_environment_id)\nprint(json.dumps(configurations, indent=2))\n\nquery_options = {'query': 'IBM'}\nquery_results = discovery.query(news_environment_id,\n                                news_collections[0]['collection_id'],\n                                query_options)\nprint(json.dumps(query_results, indent=2))\n"
        }, 
        {
            "execution_count": null, 
            "metadata": {}, 
            "cell_type": "code", 
            "outputs": [], 
            "source": "import os\nos.listdir('/')"
        }, 
        {
            "execution_count": null, 
            "metadata": {}, 
            "cell_type": "code", 
            "outputs": [], 
            "source": "# The code was removed by DSX for sharing."
        }, 
        {
            "execution_count": null, 
            "metadata": {}, 
            "cell_type": "code", 
            "outputs": [], 
            "source": ""
        }
    ], 
    "nbformat_minor": 1
}